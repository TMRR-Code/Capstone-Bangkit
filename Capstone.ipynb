{
  "nbformat": 4,
  "nbformat_minor": 0,
  "metadata": {
    "colab": {
      "provenance": [],
      "gpuType": "V28"
    },
    "kernelspec": {
      "name": "python3",
      "display_name": "Python 3"
    },
    "language_info": {
      "name": "python"
    },
    "accelerator": "TPU"
  },
  "cells": [
    {
      "cell_type": "code",
      "execution_count": 1,
      "metadata": {
        "id": "CG_UeXsNJXyw"
      },
      "outputs": [],
      "source": [
        "import cv2\n",
        "import os\n",
        "import shutil\n",
        "import kagglehub\n",
        "import tensorflow as tf\n",
        "import matplotlib.pyplot as plt\n",
        "import matplotlib.image as mpimg\n",
        "import numpy as np\n",
        "import random\n",
        "from tensorflow.keras.preprocessing.image import ImageDataGenerator\n",
        "from tensorflow.keras import layers, models"
      ]
    },
    {
      "cell_type": "code",
      "source": [
        "import kagglehub\n",
        "\n",
        "# Download latest version\n",
        "path = kagglehub.dataset_download(\"rashikrahmanpritom/plant-disease-recognition-dataset\")\n",
        "\n",
        "print(\"Path to dataset files:\", path)\n",
        "# Tentukan direktori tujuan untuk memindahkan dataset\n",
        "new_directory = '/content/plant-disease-dataset'\n",
        "\n",
        "# Memindahkan dataset ke direktori baru\n",
        "shutil.move(path, new_directory)"
      ],
      "metadata": {
        "colab": {
          "base_uri": "https://localhost:8080/",
          "height": 109
        },
        "id": "qC5yZj6eLRjr",
        "outputId": "441512f2-5cdb-4b70-9716-4be72bf389f7"
      },
      "execution_count": 2,
      "outputs": [
        {
          "output_type": "stream",
          "name": "stdout",
          "text": [
            "Downloading from https://www.kaggle.com/api/v1/datasets/download/rashikrahmanpritom/plant-disease-recognition-dataset?dataset_version_number=1...\n"
          ]
        },
        {
          "output_type": "stream",
          "name": "stderr",
          "text": [
            "100%|██████████| 1.25G/1.25G [00:06<00:00, 217MB/s]"
          ]
        },
        {
          "output_type": "stream",
          "name": "stdout",
          "text": [
            "Extracting files...\n"
          ]
        },
        {
          "output_type": "stream",
          "name": "stderr",
          "text": [
            "\n"
          ]
        },
        {
          "output_type": "stream",
          "name": "stdout",
          "text": [
            "Path to dataset files: /root/.cache/kagglehub/datasets/rashikrahmanpritom/plant-disease-recognition-dataset/versions/1\n"
          ]
        },
        {
          "output_type": "execute_result",
          "data": {
            "text/plain": [
              "'/content/plant-disease-dataset'"
            ],
            "application/vnd.google.colaboratory.intrinsic+json": {
              "type": "string"
            }
          },
          "metadata": {},
          "execution_count": 2
        }
      ]
    },
    {
      "cell_type": "code",
      "source": [
        "print(os.getcwd())"
      ],
      "metadata": {
        "colab": {
          "base_uri": "https://localhost:8080/"
        },
        "id": "VIAJU_ZcDVjc",
        "outputId": "e8e11f4e-fb04-4bea-cf50-e0a3c3eedfde"
      },
      "execution_count": 3,
      "outputs": [
        {
          "output_type": "stream",
          "name": "stdout",
          "text": [
            "/content\n"
          ]
        }
      ]
    },
    {
      "cell_type": "code",
      "source": [
        "TRAIN_DIR = 'plant-disease-dataset/Train/Train'\n",
        "TEST_DIR = 'plant-disease-dataset/Test/Test'\n",
        "VAL_DIR = 'plant-disease-dataset/Validation/Validation'\n"
      ],
      "metadata": {
        "id": "TwlNSsHzKEFM"
      },
      "execution_count": 4,
      "outputs": []
    },
    {
      "cell_type": "code",
      "source": [
        "# Directory with the training horse pictures\n",
        "train_powdery_dir = os.path.join(TRAIN_DIR, 'Powdery')\n",
        "train_healthy_dir = os.path.join(TRAIN_DIR, 'Healthy')\n",
        "train_rust_dir = os.path.join(TRAIN_DIR, 'Rust')\n",
        "\n",
        "\n",
        "# Check the filenames\n",
        "train_powdery_names = os.listdir(train_powdery_dir)\n",
        "print(f\"5 files in Powdery subdir: {train_powdery_names[:5]}\")\n",
        "train_healthy_names = os.listdir(train_healthy_dir)\n",
        "print(f\"5 files in Not Powdery subdir:{train_healthy_names[:5]}\")\n",
        "train_rust_names = os.listdir(train_rust_dir)\n",
        "print(f\"5 files in Not Powdery subdir:{train_rust_names[:5]}\")"
      ],
      "metadata": {
        "colab": {
          "base_uri": "https://localhost:8080/"
        },
        "id": "ZVGGu3aqVT2b",
        "outputId": "b54af628-e26d-4443-f03b-7ea778de0776"
      },
      "execution_count": 5,
      "outputs": [
        {
          "output_type": "stream",
          "name": "stdout",
          "text": [
            "5 files in Powdery subdir: ['ddca2303c383d9b9.jpg', '95cb3b9998371299.jpg', 'ddd22d3896cac585.jpg', 'e160ddea201fe29d.jpg', '8f0d749f8cc01b3e.jpg']\n",
            "5 files in Not Powdery subdir:['80eb96948bd68f9a.jpg', '97a58fc648ae9878.jpg', '9f9c55656a4592b2.jpg', '91ec138593c7d1ba.jpg', '9e21c4da3336bd52.jpg']\n",
            "5 files in Not Powdery subdir:['a6f2d98bb4a42d25.jpg', '9fe9c28c28730e9e.jpg', 'a4e689347133f98e.jpg', 'c1cc8f836c9239eb.jpg', 'ace8591d545f5683.jpg']\n"
          ]
        }
      ]
    },
    {
      "cell_type": "code",
      "source": [
        "# # Data augmentation dan normalisasi\n",
        "# train_datagen = ImageDataGenerator(rescale=1./255, rotation_range=20,\n",
        "#                                    width_shift_range=0.2, height_shift_range=0.2,\n",
        "#                                    horizontal_flip=True)\n",
        "# valid_datagen = ImageDataGenerator(rescale=1./255)\n",
        "# test_datagen = ImageDataGenerator(rescale=1./255)\n",
        "\n",
        "# Load data dari folder\n",
        "# Instantiate the dataset\n",
        "train_dataset = tf.keras.utils.image_dataset_from_directory(\n",
        "    TRAIN_DIR,\n",
        "    image_size=(150, 150),\n",
        "    batch_size=32,\n",
        "    label_mode='categorical'\n",
        "    )\n",
        "\n",
        "valid_data = tf.keras.utils.image_dataset_from_directory(\n",
        "    VAL_DIR,\n",
        "    image_size=(150, 150),\n",
        "    batch_size=32,\n",
        "    label_mode='categorical'\n",
        "    )\n",
        "\n",
        "test_data = tf.keras.utils.image_dataset_from_directory(\n",
        "    TEST_DIR,\n",
        "    image_size=(150, 150),\n",
        "    batch_size=32,\n",
        "    label_mode='categorical'\n",
        ")"
      ],
      "metadata": {
        "id": "ubAQqQ6jXO-y",
        "colab": {
          "base_uri": "https://localhost:8080/"
        },
        "outputId": "db0b77e1-4ee5-4f4a-950c-a3536563460f"
      },
      "execution_count": 6,
      "outputs": [
        {
          "output_type": "stream",
          "name": "stdout",
          "text": [
            "Found 1322 files belonging to 3 classes.\n",
            "Found 60 files belonging to 3 classes.\n",
            "Found 150 files belonging to 3 classes.\n"
          ]
        }
      ]
    },
    {
      "cell_type": "code",
      "source": [
        "rescale_layer = tf.keras.layers.Rescaling(scale=1./255)"
      ],
      "metadata": {
        "id": "BX9ytWjbBfLe"
      },
      "execution_count": 7,
      "outputs": []
    },
    {
      "cell_type": "code",
      "source": [
        "# Rescale the image using a lambda function\n",
        "train_dataset_scaled = train_dataset.map(lambda image, label: (rescale_layer(image), label))\n",
        "valid_dataset_scaled = valid_data.map(lambda image, label: (rescale_layer(image), label))\n",
        "test_dataset_scaled = test_data.map(lambda image, label: (rescale_layer(image), label))\n"
      ],
      "metadata": {
        "id": "jytC5lORBhNO"
      },
      "execution_count": 8,
      "outputs": []
    },
    {
      "cell_type": "code",
      "source": [
        "# Define fill mode.\n",
        "FILL_MODE = 'nearest'\n",
        "\n",
        "# Create the augmentation model.\n",
        "data_augmentation = tf.keras.Sequential([\n",
        "    # Specify the input shape.\n",
        "    tf.keras.Input(shape=(150,150,3)),\n",
        "    # Add the augmentation layers\n",
        "    tf.keras.layers.RandomFlip(\"horizontal\"),\n",
        "    tf.keras.layers.RandomRotation(0.2, fill_mode=FILL_MODE),\n",
        "    tf.keras.layers.RandomTranslation(0.2,0.2, fill_mode=FILL_MODE),\n",
        "    tf.keras.layers.RandomZoom(0.2, fill_mode=FILL_MODE),\n",
        "    tf.keras.layers.RandomShear(0.2),\n",
        "    ])"
      ],
      "metadata": {
        "id": "_ApgMo8gim8n",
        "outputId": "ffdc636c-16f6-42ce-c7fd-55230d13b823",
        "colab": {
          "base_uri": "https://localhost:8080/",
          "height": 202
        }
      },
      "execution_count": 11,
      "outputs": [
        {
          "output_type": "error",
          "ename": "AttributeError",
          "evalue": "module 'keras.api._v2.keras.layers' has no attribute 'RandomShear'",
          "traceback": [
            "\u001b[0;31m---------------------------------------------------------------------------\u001b[0m",
            "\u001b[0;31mAttributeError\u001b[0m                            Traceback (most recent call last)",
            "\u001b[0;32m<ipython-input-11-476ea01de3b1>\u001b[0m in \u001b[0;36m<cell line: 5>\u001b[0;34m()\u001b[0m\n\u001b[1;32m     11\u001b[0m     \u001b[0mtf\u001b[0m\u001b[0;34m.\u001b[0m\u001b[0mkeras\u001b[0m\u001b[0;34m.\u001b[0m\u001b[0mlayers\u001b[0m\u001b[0;34m.\u001b[0m\u001b[0mRandomTranslation\u001b[0m\u001b[0;34m(\u001b[0m\u001b[0;36m0.2\u001b[0m\u001b[0;34m,\u001b[0m\u001b[0;36m0.2\u001b[0m\u001b[0;34m,\u001b[0m \u001b[0mfill_mode\u001b[0m\u001b[0;34m=\u001b[0m\u001b[0mFILL_MODE\u001b[0m\u001b[0;34m)\u001b[0m\u001b[0;34m,\u001b[0m\u001b[0;34m\u001b[0m\u001b[0;34m\u001b[0m\u001b[0m\n\u001b[1;32m     12\u001b[0m     \u001b[0mtf\u001b[0m\u001b[0;34m.\u001b[0m\u001b[0mkeras\u001b[0m\u001b[0;34m.\u001b[0m\u001b[0mlayers\u001b[0m\u001b[0;34m.\u001b[0m\u001b[0mRandomZoom\u001b[0m\u001b[0;34m(\u001b[0m\u001b[0;36m0.2\u001b[0m\u001b[0;34m,\u001b[0m \u001b[0mfill_mode\u001b[0m\u001b[0;34m=\u001b[0m\u001b[0mFILL_MODE\u001b[0m\u001b[0;34m)\u001b[0m\u001b[0;34m,\u001b[0m\u001b[0;34m\u001b[0m\u001b[0;34m\u001b[0m\u001b[0m\n\u001b[0;32m---> 13\u001b[0;31m     \u001b[0mtf\u001b[0m\u001b[0;34m.\u001b[0m\u001b[0mkeras\u001b[0m\u001b[0;34m.\u001b[0m\u001b[0mlayers\u001b[0m\u001b[0;34m.\u001b[0m\u001b[0mRandomShear\u001b[0m\u001b[0;34m(\u001b[0m\u001b[0;36m0.2\u001b[0m\u001b[0;34m)\u001b[0m\u001b[0;34m,\u001b[0m\u001b[0;34m\u001b[0m\u001b[0;34m\u001b[0m\u001b[0m\n\u001b[0m\u001b[1;32m     14\u001b[0m     ])\n",
            "\u001b[0;31mAttributeError\u001b[0m: module 'keras.api._v2.keras.layers' has no attribute 'RandomShear'"
          ]
        }
      ]
    },
    {
      "cell_type": "code",
      "source": [
        "model = models.Sequential([\n",
        "    data_augmentation,\n",
        "    tf.keras.Input(shape=(150, 150, 3)),\n",
        "    layers.Conv2D(16, (3, 3), activation='relu'),\n",
        "    layers.MaxPooling2D((2, 2)),\n",
        "    layers.Conv2D(32, (3, 3), activation='relu'),\n",
        "    layers.MaxPooling2D((2, 2)),\n",
        "    layers.Conv2D(64, (3, 3), activation='relu'),\n",
        "    layers.MaxPooling2D((2, 2)),\n",
        "    layers.Conv2D(128, (3, 3), activation='relu'),\n",
        "    layers.MaxPooling2D((2, 2)),\n",
        "    layers.Flatten(),\n",
        "    layers.Dense(512, activation='relu'),\n",
        "    layers.Dense(3, activation='softmax')  # Gunakan 'softmax' untuk multi-kelas\n",
        "])"
      ],
      "metadata": {
        "id": "HvBzMXiZFKrg"
      },
      "execution_count": null,
      "outputs": []
    },
    {
      "cell_type": "code",
      "source": [
        "model.compile(optimizer='Adam',\n",
        "              loss='categorical_crossentropy',  # Gunakan 'categorical_crossentropy' untuk multi-kelas\n",
        "              metrics=['accuracy'])"
      ],
      "metadata": {
        "id": "RG34ny3YFTB1"
      },
      "execution_count": null,
      "outputs": []
    },
    {
      "cell_type": "code",
      "source": [
        "SHUFFLE_BUFFER_SIZE = 1000\n",
        "PREFETCH_BUFFER_SIZE = tf.data.AUTOTUNE\n",
        "\n",
        "train_dataset_final = (train_dataset_scaled\n",
        "                       .cache()\n",
        "                       .shuffle(SHUFFLE_BUFFER_SIZE)\n",
        "                       .prefetch(PREFETCH_BUFFER_SIZE)\n",
        "                      )\n",
        "validation_dataset_final = (test_dataset_scaled\n",
        "                       .cache()\n",
        "                       .prefetch(PREFETCH_BUFFER_SIZE)\n",
        "                      )"
      ],
      "metadata": {
        "id": "uxj-6F5SCDEW"
      },
      "execution_count": null,
      "outputs": []
    },
    {
      "cell_type": "code",
      "source": [
        "# Remember to inherit from the correct class\n",
        "class EarlyStoppingCallback(tf.keras.callbacks.Callback):\n",
        "\n",
        "    # Define the correct function signature for on_epoch_end method\n",
        "    def on_epoch_end(self, epoch, logs=None):\n",
        "        # Check if the accuracy is greater or equal to 0.8 and validation accuracy is greater or equal to 0.8\n",
        "        if logs.get('loss', 0) <= 0.15 and logs.get('val_loss', 0) <= 0.18:\n",
        "            self.model.stop_training = True\n",
        "\n",
        "            print(\"\\nReached 80% train accuracy and 80% validation accuracy, so cancelling training!\")"
      ],
      "metadata": {
        "id": "aXUR5TBjnQF1"
      },
      "execution_count": null,
      "outputs": []
    },
    {
      "cell_type": "code",
      "source": [
        "history = model.fit(\n",
        "    train_dataset_scaled,\n",
        "    epochs=50,  # Ubah sesuai kebutuhan\n",
        "    validation_data=validation_dataset_final,\n",
        "    verbose = 2,\n",
        "    callbacks=[EarlyStoppingCallback()]\n",
        ")"
      ],
      "metadata": {
        "id": "P8kXEFTJHCaD"
      },
      "execution_count": null,
      "outputs": []
    },
    {
      "cell_type": "code",
      "source": [
        "# Get training and validation accuracies\n",
        "acc = history.history['accuracy']\n",
        "val_acc = history.history['val_accuracy']\n",
        "loss = history.history['loss']\n",
        "val_loss = history.history['val_loss']\n",
        "\n",
        "# Get number of epochs\n",
        "epochs = range(len(acc))\n",
        "\n",
        "fig, ax = plt.subplots(1, 2, figsize=(10, 5))\n",
        "fig.suptitle('Training and validation accuracy')\n",
        "\n",
        "for i, (data, label) in enumerate(zip([(acc, val_acc), (loss, val_loss)], [\"Accuracy\", \"Loss\"])):\n",
        "    ax[i].plot(epochs, data[0], 'r', label=\"Training \" + label)\n",
        "    ax[i].plot(epochs, data[1], 'b', label=\"Validation \" + label)\n",
        "    ax[i].legend()\n",
        "    ax[i].set_xlabel('epochs')\n",
        "\n",
        "plt.show()"
      ],
      "metadata": {
        "colab": {
          "base_uri": "https://localhost:8080/",
          "height": 515
        },
        "id": "Bs2hR3nkb_g_",
        "outputId": "33441cf7-fab0-4e7e-e73a-4a2b518656ce"
      },
      "execution_count": null,
      "outputs": [
        {
          "output_type": "display_data",
          "data": {
            "text/plain": [
              "<Figure size 1000x500 with 2 Axes>"
            ],
            "image/png": "[encoded data removed]"
          },
          "metadata": {}
        }
      ]
    },
    {
      "cell_type": "code",
      "source": [
        "test_loss, test_accuracy = model.evaluate(valid_dataset_scaled)\n",
        "print(f\"Test Accuracy: {test_accuracy*100:.2f}%\")"
      ],
      "metadata": {
        "id": "3GBEFf-WHFEd",
        "colab": {
          "base_uri": "https://localhost:8080/"
        },
        "outputId": "14fc32c2-f1b4-4615-8b2f-c3a5b3df6481"
      },
      "execution_count": null,
      "outputs": [
        {
          "output_type": "stream",
          "name": "stdout",
          "text": [
            "2/2 [==============================] - 0s 14ms/step - loss: 0.1683 - accuracy: 0.9500\n",
            "Test Accuracy: 95.00%\n"
          ]
        }
      ]
    },
    {
      "cell_type": "code",
      "source": [],
      "metadata": {
        "id": "2H0-Y93iF3Fb"
      },
      "execution_count": null,
      "outputs": []
    }
  ]
}